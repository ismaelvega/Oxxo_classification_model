{
 "cells": [
  {
   "cell_type": "code",
   "execution_count": 118,
   "id": "6c6895d5",
   "metadata": {},
   "outputs": [],
   "source": [
    "import pandas as pd\n",
    "import warnings \n",
    "warnings.filterwarnings('ignore')\n",
    "\n",
    "\n"
   ]
  },
  {
   "cell_type": "code",
   "execution_count": 119,
   "id": "79d4ba96",
   "metadata": {},
   "outputs": [
    {
     "data": {
      "text/html": [
       "<div>\n",
       "<style scoped>\n",
       "    .dataframe tbody tr th:only-of-type {\n",
       "        vertical-align: middle;\n",
       "    }\n",
       "\n",
       "    .dataframe tbody tr th {\n",
       "        vertical-align: top;\n",
       "    }\n",
       "\n",
       "    .dataframe thead th {\n",
       "        text-align: right;\n",
       "    }\n",
       "</style>\n",
       "<table border=\"1\" class=\"dataframe\">\n",
       "  <thead>\n",
       "    <tr style=\"text-align: right;\">\n",
       "      <th></th>\n",
       "      <th>TIENDA_ID</th>\n",
       "      <th>PLAZA_CVE</th>\n",
       "      <th>NIVELSOCIOECONOMICO_DES</th>\n",
       "      <th>ENTORNO_DES</th>\n",
       "      <th>MTS2VENTAS_NUM</th>\n",
       "      <th>PUERTASREFRIG_NUM</th>\n",
       "      <th>CAJONESESTACIONAMIENTO_NUM</th>\n",
       "      <th>LATITUD_NUM</th>\n",
       "      <th>LONGITUD_NUM</th>\n",
       "      <th>SEGMENTO_MAESTRO_DESC</th>\n",
       "      <th>LID_UBICACION_TIENDA</th>\n",
       "      <th>DATASET</th>\n",
       "    </tr>\n",
       "  </thead>\n",
       "  <tbody>\n",
       "    <tr>\n",
       "      <th>0</th>\n",
       "      <td>126</td>\n",
       "      <td>1</td>\n",
       "      <td>BC</td>\n",
       "      <td>Hogar</td>\n",
       "      <td>127.42</td>\n",
       "      <td>13</td>\n",
       "      <td>7</td>\n",
       "      <td>25.69107</td>\n",
       "      <td>-100.21261</td>\n",
       "      <td>Hogar Reunión</td>\n",
       "      <td>UT_DENSIDAD</td>\n",
       "      <td>TRAIN</td>\n",
       "    </tr>\n",
       "    <tr>\n",
       "      <th>1</th>\n",
       "      <td>681</td>\n",
       "      <td>1</td>\n",
       "      <td>C</td>\n",
       "      <td>Hogar</td>\n",
       "      <td>128.13</td>\n",
       "      <td>13</td>\n",
       "      <td>0</td>\n",
       "      <td>25.73571</td>\n",
       "      <td>-100.18086</td>\n",
       "      <td>Hogar Reunión</td>\n",
       "      <td>UT_DENSIDAD</td>\n",
       "      <td>TRAIN</td>\n",
       "    </tr>\n",
       "    <tr>\n",
       "      <th>2</th>\n",
       "      <td>117</td>\n",
       "      <td>1</td>\n",
       "      <td>C</td>\n",
       "      <td>Base</td>\n",
       "      <td>87.62</td>\n",
       "      <td>11</td>\n",
       "      <td>11</td>\n",
       "      <td>25.71883</td>\n",
       "      <td>-100.19133</td>\n",
       "      <td>Hogar Reunión</td>\n",
       "      <td>UT_DENSIDAD</td>\n",
       "      <td>TRAIN</td>\n",
       "    </tr>\n",
       "    <tr>\n",
       "      <th>3</th>\n",
       "      <td>682</td>\n",
       "      <td>1</td>\n",
       "      <td>C</td>\n",
       "      <td>Hogar</td>\n",
       "      <td>90.70</td>\n",
       "      <td>13</td>\n",
       "      <td>0</td>\n",
       "      <td>25.66952</td>\n",
       "      <td>-100.20744</td>\n",
       "      <td>Hogar Reunión</td>\n",
       "      <td>UT_DENSIDAD</td>\n",
       "      <td>TRAIN</td>\n",
       "    </tr>\n",
       "    <tr>\n",
       "      <th>4</th>\n",
       "      <td>275</td>\n",
       "      <td>1</td>\n",
       "      <td>C</td>\n",
       "      <td>Hogar</td>\n",
       "      <td>95.30</td>\n",
       "      <td>13</td>\n",
       "      <td>6</td>\n",
       "      <td>25.73766</td>\n",
       "      <td>-100.16116</td>\n",
       "      <td>Hogar Reunión</td>\n",
       "      <td>UT_DENSIDAD</td>\n",
       "      <td>TRAIN</td>\n",
       "    </tr>\n",
       "  </tbody>\n",
       "</table>\n",
       "</div>"
      ],
      "text/plain": [
       "   TIENDA_ID  PLAZA_CVE NIVELSOCIOECONOMICO_DES ENTORNO_DES  MTS2VENTAS_NUM  \\\n",
       "0        126          1                      BC       Hogar          127.42   \n",
       "1        681          1                       C       Hogar          128.13   \n",
       "2        117          1                       C        Base           87.62   \n",
       "3        682          1                       C       Hogar           90.70   \n",
       "4        275          1                       C       Hogar           95.30   \n",
       "\n",
       "   PUERTASREFRIG_NUM  CAJONESESTACIONAMIENTO_NUM  LATITUD_NUM  LONGITUD_NUM  \\\n",
       "0                 13                           7     25.69107    -100.21261   \n",
       "1                 13                           0     25.73571    -100.18086   \n",
       "2                 11                          11     25.71883    -100.19133   \n",
       "3                 13                           0     25.66952    -100.20744   \n",
       "4                 13                           6     25.73766    -100.16116   \n",
       "\n",
       "  SEGMENTO_MAESTRO_DESC LID_UBICACION_TIENDA DATASET  \n",
       "0         Hogar Reunión          UT_DENSIDAD   TRAIN  \n",
       "1         Hogar Reunión          UT_DENSIDAD   TRAIN  \n",
       "2         Hogar Reunión          UT_DENSIDAD   TRAIN  \n",
       "3         Hogar Reunión          UT_DENSIDAD   TRAIN  \n",
       "4         Hogar Reunión          UT_DENSIDAD   TRAIN  "
      ]
     },
     "execution_count": 119,
     "metadata": {},
     "output_type": "execute_result"
    }
   ],
   "source": [
    "df = pd.read_csv('../data/DIM_TIENDA.csv')\n",
    "df.head()"
   ]
  },
  {
   "cell_type": "code",
   "execution_count": 120,
   "id": "54fd277d",
   "metadata": {},
   "outputs": [
    {
     "data": {
      "text/plain": [
       "Index(['TIENDA_ID', 'PLAZA_CVE', 'NIVELSOCIOECONOMICO_DES', 'ENTORNO_DES',\n",
       "       'MTS2VENTAS_NUM', 'PUERTASREFRIG_NUM', 'CAJONESESTACIONAMIENTO_NUM',\n",
       "       'LATITUD_NUM', 'LONGITUD_NUM', 'SEGMENTO_MAESTRO_DESC',\n",
       "       'LID_UBICACION_TIENDA', 'DATASET'],\n",
       "      dtype='object')"
      ]
     },
     "execution_count": 120,
     "metadata": {},
     "output_type": "execute_result"
    }
   ],
   "source": [
    "df.columns"
   ]
  },
  {
   "cell_type": "code",
   "execution_count": 121,
   "id": "729a6c69",
   "metadata": {},
   "outputs": [
    {
     "data": {
      "text/plain": [
       "np.int64(0)"
      ]
     },
     "execution_count": 121,
     "metadata": {},
     "output_type": "execute_result"
    }
   ],
   "source": [
    "df.duplicated().sum()"
   ]
  },
  {
   "cell_type": "code",
   "execution_count": 122,
   "id": "50015466",
   "metadata": {},
   "outputs": [
    {
     "name": "stdout",
     "output_type": "stream",
     "text": [
      "<class 'pandas.core.frame.DataFrame'>\n",
      "RangeIndex: 951 entries, 0 to 950\n",
      "Data columns (total 12 columns):\n",
      " #   Column                      Non-Null Count  Dtype  \n",
      "---  ------                      --------------  -----  \n",
      " 0   TIENDA_ID                   951 non-null    int64  \n",
      " 1   PLAZA_CVE                   951 non-null    int64  \n",
      " 2   NIVELSOCIOECONOMICO_DES     951 non-null    object \n",
      " 3   ENTORNO_DES                 951 non-null    object \n",
      " 4   MTS2VENTAS_NUM              951 non-null    float64\n",
      " 5   PUERTASREFRIG_NUM           951 non-null    int64  \n",
      " 6   CAJONESESTACIONAMIENTO_NUM  951 non-null    int64  \n",
      " 7   LATITUD_NUM                 951 non-null    float64\n",
      " 8   LONGITUD_NUM                951 non-null    float64\n",
      " 9   SEGMENTO_MAESTRO_DESC       944 non-null    object \n",
      " 10  LID_UBICACION_TIENDA        951 non-null    object \n",
      " 11  DATASET                     951 non-null    object \n",
      "dtypes: float64(3), int64(4), object(5)\n",
      "memory usage: 89.3+ KB\n"
     ]
    }
   ],
   "source": [
    "df.info()"
   ]
  },
  {
   "cell_type": "code",
   "execution_count": 123,
   "id": "dc8da9c2",
   "metadata": {},
   "outputs": [
    {
     "data": {
      "text/plain": [
       "TIENDA_ID                     0\n",
       "PLAZA_CVE                     0\n",
       "NIVELSOCIOECONOMICO_DES       0\n",
       "ENTORNO_DES                   0\n",
       "MTS2VENTAS_NUM                0\n",
       "PUERTASREFRIG_NUM             0\n",
       "CAJONESESTACIONAMIENTO_NUM    0\n",
       "LATITUD_NUM                   0\n",
       "LONGITUD_NUM                  0\n",
       "SEGMENTO_MAESTRO_DESC         7\n",
       "LID_UBICACION_TIENDA          0\n",
       "DATASET                       0\n",
       "dtype: int64"
      ]
     },
     "execution_count": 123,
     "metadata": {},
     "output_type": "execute_result"
    }
   ],
   "source": [
    "df.isnull().sum()"
   ]
  },
  {
   "cell_type": "code",
   "execution_count": 124,
   "id": "9ffdb8bb",
   "metadata": {},
   "outputs": [
    {
     "data": {
      "text/plain": [
       "array(['Hogar Reunión', 'Oficinistas', 'Clásico', 'Parada Técnica',\n",
       "       'Barrio Competido', nan], dtype=object)"
      ]
     },
     "execution_count": 124,
     "metadata": {},
     "output_type": "execute_result"
    }
   ],
   "source": [
    "df['SEGMENTO_MAESTRO_DESC'].unique()"
   ]
  },
  {
   "cell_type": "code",
   "execution_count": 125,
   "id": "7ee4da8c",
   "metadata": {},
   "outputs": [
    {
     "data": {
      "text/plain": [
       "array(['Hogar', 'Base', 'Receso', 'Peatonal'], dtype=object)"
      ]
     },
     "execution_count": 125,
     "metadata": {},
     "output_type": "execute_result"
    }
   ],
   "source": [
    "df['ENTORNO_DES'].unique()"
   ]
  },
  {
   "cell_type": "code",
   "execution_count": 126,
   "id": "368d5f64",
   "metadata": {},
   "outputs": [
    {
     "data": {
      "text/plain": [
       "array(['UT_DENSIDAD', 'UT_GAS_URBANA', 'UT_TRAFICO_PEATONAL',\n",
       "       'UT_TRAFICO_VEHICULAR', 'UT_CARRETERA_GAS'], dtype=object)"
      ]
     },
     "execution_count": 126,
     "metadata": {},
     "output_type": "execute_result"
    }
   ],
   "source": [
    "df['LID_UBICACION_TIENDA'].unique()"
   ]
  },
  {
   "cell_type": "code",
   "execution_count": 127,
   "id": "ffe03655",
   "metadata": {},
   "outputs": [],
   "source": [
    "moda_segmento_maestro = df['SEGMENTO_MAESTRO_DESC'].mode()[0]\n",
    "df['SEGMENTO_MAESTRO_DESC'].fillna(moda_segmento_maestro, inplace=True)"
   ]
  },
  {
   "cell_type": "code",
   "execution_count": 128,
   "id": "9eb88cd3",
   "metadata": {},
   "outputs": [
    {
     "data": {
      "text/plain": [
       "TIENDA_ID                     0\n",
       "PLAZA_CVE                     0\n",
       "NIVELSOCIOECONOMICO_DES       0\n",
       "ENTORNO_DES                   0\n",
       "MTS2VENTAS_NUM                0\n",
       "PUERTASREFRIG_NUM             0\n",
       "CAJONESESTACIONAMIENTO_NUM    0\n",
       "LATITUD_NUM                   0\n",
       "LONGITUD_NUM                  0\n",
       "SEGMENTO_MAESTRO_DESC         0\n",
       "LID_UBICACION_TIENDA          0\n",
       "DATASET                       0\n",
       "dtype: int64"
      ]
     },
     "execution_count": 128,
     "metadata": {},
     "output_type": "execute_result"
    }
   ],
   "source": [
    "df.isnull().sum()"
   ]
  },
  {
   "cell_type": "code",
   "execution_count": 129,
   "id": "6bd79819",
   "metadata": {},
   "outputs": [],
   "source": [
    "df['ENTORNO_DES'] = df['ENTORNO_DES'].astype('category')\n",
    "df['NIVELSOCIOECONOMICO_DES'] = df['NIVELSOCIOECONOMICO_DES'].astype('category')\n",
    "df['SEGMENTO_MAESTRO_DESC'] = df['SEGMENTO_MAESTRO_DESC'].astype('category')\n",
    "df['LID_UBICACION_TIENDA'] = df['LID_UBICACION_TIENDA'].astype('category')\n"
   ]
  },
  {
   "cell_type": "code",
   "execution_count": 130,
   "id": "e4a06dca",
   "metadata": {},
   "outputs": [
    {
     "data": {
      "text/plain": [
       "1"
      ]
     },
     "execution_count": 130,
     "metadata": {},
     "output_type": "execute_result"
    }
   ],
   "source": [
    "df['DATASET'].nunique()"
   ]
  },
  {
   "cell_type": "code",
   "execution_count": 131,
   "id": "5ab24c5c",
   "metadata": {},
   "outputs": [
    {
     "name": "stdout",
     "output_type": "stream",
     "text": [
      "<class 'pandas.core.frame.DataFrame'>\n",
      "RangeIndex: 951 entries, 0 to 950\n",
      "Data columns (total 12 columns):\n",
      " #   Column                      Non-Null Count  Dtype   \n",
      "---  ------                      --------------  -----   \n",
      " 0   TIENDA_ID                   951 non-null    int64   \n",
      " 1   PLAZA_CVE                   951 non-null    int64   \n",
      " 2   NIVELSOCIOECONOMICO_DES     951 non-null    category\n",
      " 3   ENTORNO_DES                 951 non-null    category\n",
      " 4   MTS2VENTAS_NUM              951 non-null    float64 \n",
      " 5   PUERTASREFRIG_NUM           951 non-null    int64   \n",
      " 6   CAJONESESTACIONAMIENTO_NUM  951 non-null    int64   \n",
      " 7   LATITUD_NUM                 951 non-null    float64 \n",
      " 8   LONGITUD_NUM                951 non-null    float64 \n",
      " 9   SEGMENTO_MAESTRO_DESC       951 non-null    category\n",
      " 10  LID_UBICACION_TIENDA        951 non-null    category\n",
      " 11  DATASET                     951 non-null    object  \n",
      "dtypes: category(4), float64(3), int64(4), object(1)\n",
      "memory usage: 64.2+ KB\n"
     ]
    }
   ],
   "source": [
    "df.info()"
   ]
  },
  {
   "cell_type": "code",
   "execution_count": 132,
   "id": "d1451ac0",
   "metadata": {},
   "outputs": [],
   "source": [
    "df['ENTORNO_DES'] = df['ENTORNO_DES'].str.upper()\n",
    "df['SEGMENTO_MAESTRO_DESC'] = df['SEGMENTO_MAESTRO_DESC'].str.upper()"
   ]
  },
  {
   "cell_type": "code",
   "execution_count": 133,
   "id": "74ea3201",
   "metadata": {},
   "outputs": [],
   "source": [
    "df = df.drop('DATASET', axis= 1)\n",
    "df = df.reset_index(drop=True)"
   ]
  },
  {
   "cell_type": "code",
   "execution_count": 134,
   "id": "27dcfb25",
   "metadata": {},
   "outputs": [],
   "source": [
    "# Eliminar espacios en blanco al inicio y final de cada nombre de columna\n",
    "df.columns = df.columns.str.strip()\n"
   ]
  },
  {
   "cell_type": "code",
   "execution_count": 135,
   "id": "794d6e33",
   "metadata": {},
   "outputs": [
    {
     "data": {
      "text/html": [
       "<div>\n",
       "<style scoped>\n",
       "    .dataframe tbody tr th:only-of-type {\n",
       "        vertical-align: middle;\n",
       "    }\n",
       "\n",
       "    .dataframe tbody tr th {\n",
       "        vertical-align: top;\n",
       "    }\n",
       "\n",
       "    .dataframe thead th {\n",
       "        text-align: right;\n",
       "    }\n",
       "</style>\n",
       "<table border=\"1\" class=\"dataframe\">\n",
       "  <thead>\n",
       "    <tr style=\"text-align: right;\">\n",
       "      <th></th>\n",
       "      <th>TIENDA_ID</th>\n",
       "      <th>PLAZA_CVE</th>\n",
       "      <th>NIVELSOCIOECONOMICO_DES</th>\n",
       "      <th>ENTORNO_DES</th>\n",
       "      <th>MTS2VENTAS_NUM</th>\n",
       "      <th>PUERTASREFRIG_NUM</th>\n",
       "      <th>CAJONESESTACIONAMIENTO_NUM</th>\n",
       "      <th>LATITUD_NUM</th>\n",
       "      <th>LONGITUD_NUM</th>\n",
       "      <th>SEGMENTO_MAESTRO_DESC</th>\n",
       "      <th>LID_UBICACION_TIENDA</th>\n",
       "    </tr>\n",
       "  </thead>\n",
       "  <tbody>\n",
       "    <tr>\n",
       "      <th>0</th>\n",
       "      <td>126</td>\n",
       "      <td>1</td>\n",
       "      <td>BC</td>\n",
       "      <td>HOGAR</td>\n",
       "      <td>127.42</td>\n",
       "      <td>13</td>\n",
       "      <td>7</td>\n",
       "      <td>25.69107</td>\n",
       "      <td>-100.21261</td>\n",
       "      <td>HOGAR REUNIÓN</td>\n",
       "      <td>UT_DENSIDAD</td>\n",
       "    </tr>\n",
       "    <tr>\n",
       "      <th>1</th>\n",
       "      <td>681</td>\n",
       "      <td>1</td>\n",
       "      <td>C</td>\n",
       "      <td>HOGAR</td>\n",
       "      <td>128.13</td>\n",
       "      <td>13</td>\n",
       "      <td>0</td>\n",
       "      <td>25.73571</td>\n",
       "      <td>-100.18086</td>\n",
       "      <td>HOGAR REUNIÓN</td>\n",
       "      <td>UT_DENSIDAD</td>\n",
       "    </tr>\n",
       "    <tr>\n",
       "      <th>2</th>\n",
       "      <td>117</td>\n",
       "      <td>1</td>\n",
       "      <td>C</td>\n",
       "      <td>BASE</td>\n",
       "      <td>87.62</td>\n",
       "      <td>11</td>\n",
       "      <td>11</td>\n",
       "      <td>25.71883</td>\n",
       "      <td>-100.19133</td>\n",
       "      <td>HOGAR REUNIÓN</td>\n",
       "      <td>UT_DENSIDAD</td>\n",
       "    </tr>\n",
       "    <tr>\n",
       "      <th>3</th>\n",
       "      <td>682</td>\n",
       "      <td>1</td>\n",
       "      <td>C</td>\n",
       "      <td>HOGAR</td>\n",
       "      <td>90.70</td>\n",
       "      <td>13</td>\n",
       "      <td>0</td>\n",
       "      <td>25.66952</td>\n",
       "      <td>-100.20744</td>\n",
       "      <td>HOGAR REUNIÓN</td>\n",
       "      <td>UT_DENSIDAD</td>\n",
       "    </tr>\n",
       "    <tr>\n",
       "      <th>4</th>\n",
       "      <td>275</td>\n",
       "      <td>1</td>\n",
       "      <td>C</td>\n",
       "      <td>HOGAR</td>\n",
       "      <td>95.30</td>\n",
       "      <td>13</td>\n",
       "      <td>6</td>\n",
       "      <td>25.73766</td>\n",
       "      <td>-100.16116</td>\n",
       "      <td>HOGAR REUNIÓN</td>\n",
       "      <td>UT_DENSIDAD</td>\n",
       "    </tr>\n",
       "  </tbody>\n",
       "</table>\n",
       "</div>"
      ],
      "text/plain": [
       "   TIENDA_ID  PLAZA_CVE NIVELSOCIOECONOMICO_DES ENTORNO_DES  MTS2VENTAS_NUM  \\\n",
       "0        126          1                      BC       HOGAR          127.42   \n",
       "1        681          1                       C       HOGAR          128.13   \n",
       "2        117          1                       C        BASE           87.62   \n",
       "3        682          1                       C       HOGAR           90.70   \n",
       "4        275          1                       C       HOGAR           95.30   \n",
       "\n",
       "   PUERTASREFRIG_NUM  CAJONESESTACIONAMIENTO_NUM  LATITUD_NUM  LONGITUD_NUM  \\\n",
       "0                 13                           7     25.69107    -100.21261   \n",
       "1                 13                           0     25.73571    -100.18086   \n",
       "2                 11                          11     25.71883    -100.19133   \n",
       "3                 13                           0     25.66952    -100.20744   \n",
       "4                 13                           6     25.73766    -100.16116   \n",
       "\n",
       "  SEGMENTO_MAESTRO_DESC LID_UBICACION_TIENDA  \n",
       "0         HOGAR REUNIÓN          UT_DENSIDAD  \n",
       "1         HOGAR REUNIÓN          UT_DENSIDAD  \n",
       "2         HOGAR REUNIÓN          UT_DENSIDAD  \n",
       "3         HOGAR REUNIÓN          UT_DENSIDAD  \n",
       "4         HOGAR REUNIÓN          UT_DENSIDAD  "
      ]
     },
     "execution_count": 135,
     "metadata": {},
     "output_type": "execute_result"
    }
   ],
   "source": [
    "df.head()"
   ]
  },
  {
   "cell_type": "code",
   "execution_count": 136,
   "id": "188eda51",
   "metadata": {},
   "outputs": [],
   "source": [
    "df.to_csv('../data/Clean_DIM_TIENDA.csv', index=False)"
   ]
  }
 ],
 "metadata": {
  "kernelspec": {
   "display_name": "env",
   "language": "python",
   "name": "python3"
  },
  "language_info": {
   "codemirror_mode": {
    "name": "ipython",
    "version": 3
   },
   "file_extension": ".py",
   "mimetype": "text/x-python",
   "name": "python",
   "nbconvert_exporter": "python",
   "pygments_lexer": "ipython3",
   "version": "3.13.1"
  }
 },
 "nbformat": 4,
 "nbformat_minor": 5
}
