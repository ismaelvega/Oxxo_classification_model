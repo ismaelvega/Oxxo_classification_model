{
 "cells": [
  {
   "cell_type": "code",
   "execution_count": 37,
   "id": "08ac7d86",
   "metadata": {},
   "outputs": [],
   "source": [
    "import pandas as pd\n",
    "import numpy as np\n",
    "import warnings \n",
    "warnings.filterwarnings('ignore')\n"
   ]
  },
  {
   "cell_type": "code",
   "execution_count": 38,
   "id": "1dd9d50d",
   "metadata": {},
   "outputs": [
    {
     "data": {
      "text/html": [
       "<div>\n",
       "<style scoped>\n",
       "    .dataframe tbody tr th:only-of-type {\n",
       "        vertical-align: middle;\n",
       "    }\n",
       "\n",
       "    .dataframe tbody tr th {\n",
       "        vertical-align: top;\n",
       "    }\n",
       "\n",
       "    .dataframe thead th {\n",
       "        text-align: right;\n",
       "    }\n",
       "</style>\n",
       "<table border=\"1\" class=\"dataframe\">\n",
       "  <thead>\n",
       "    <tr style=\"text-align: right;\">\n",
       "      <th></th>\n",
       "      <th>TIENDA_ID</th>\n",
       "      <th>PLAZA_CVE</th>\n",
       "      <th>NIVELSOCIOECONOMICO_DES</th>\n",
       "      <th>ENTORNO_DES</th>\n",
       "      <th>MTS2VENTAS_NUM</th>\n",
       "      <th>PUERTASREFRIG_NUM</th>\n",
       "      <th>CAJONESESTACIONAMIENTO_NUM</th>\n",
       "      <th>LATITUD_NUM</th>\n",
       "      <th>LONGITUD_NUM</th>\n",
       "      <th>SEGMENTO_MAESTRO_DESC</th>\n",
       "      <th>LID_UBICACION_TIENDA</th>\n",
       "      <th>DATASET</th>\n",
       "    </tr>\n",
       "  </thead>\n",
       "  <tbody>\n",
       "    <tr>\n",
       "      <th>0</th>\n",
       "      <td>680</td>\n",
       "      <td>1</td>\n",
       "      <td>C</td>\n",
       "      <td>Hogar</td>\n",
       "      <td>102.36</td>\n",
       "      <td>13</td>\n",
       "      <td>0</td>\n",
       "      <td>25.65488</td>\n",
       "      <td>-100.21207</td>\n",
       "      <td>Hogar Reunión</td>\n",
       "      <td>UT_DENSIDAD</td>\n",
       "      <td>TEST</td>\n",
       "    </tr>\n",
       "    <tr>\n",
       "      <th>1</th>\n",
       "      <td>730</td>\n",
       "      <td>1</td>\n",
       "      <td>C</td>\n",
       "      <td>Hogar</td>\n",
       "      <td>97.43</td>\n",
       "      <td>14</td>\n",
       "      <td>0</td>\n",
       "      <td>25.66315</td>\n",
       "      <td>-100.22738</td>\n",
       "      <td>Hogar Reunión</td>\n",
       "      <td>UT_DENSIDAD</td>\n",
       "      <td>TEST</td>\n",
       "    </tr>\n",
       "    <tr>\n",
       "      <th>2</th>\n",
       "      <td>650</td>\n",
       "      <td>1</td>\n",
       "      <td>C</td>\n",
       "      <td>Hogar</td>\n",
       "      <td>117.01</td>\n",
       "      <td>13</td>\n",
       "      <td>0</td>\n",
       "      <td>25.66404</td>\n",
       "      <td>-100.22993</td>\n",
       "      <td>Hogar Reunión</td>\n",
       "      <td>UT_DENSIDAD</td>\n",
       "      <td>TEST</td>\n",
       "    </tr>\n",
       "    <tr>\n",
       "      <th>3</th>\n",
       "      <td>670</td>\n",
       "      <td>1</td>\n",
       "      <td>C</td>\n",
       "      <td>Base</td>\n",
       "      <td>109.76</td>\n",
       "      <td>13</td>\n",
       "      <td>0</td>\n",
       "      <td>25.66508</td>\n",
       "      <td>-100.26338</td>\n",
       "      <td>Hogar Reunión</td>\n",
       "      <td>UT_DENSIDAD</td>\n",
       "      <td>TEST</td>\n",
       "    </tr>\n",
       "    <tr>\n",
       "      <th>4</th>\n",
       "      <td>800</td>\n",
       "      <td>1</td>\n",
       "      <td>C</td>\n",
       "      <td>Peatonal</td>\n",
       "      <td>0.00</td>\n",
       "      <td>0</td>\n",
       "      <td>0</td>\n",
       "      <td>25.69367</td>\n",
       "      <td>-100.21433</td>\n",
       "      <td>Parada Técnica</td>\n",
       "      <td>UT_TRAFICO_PEATONAL</td>\n",
       "      <td>TEST</td>\n",
       "    </tr>\n",
       "  </tbody>\n",
       "</table>\n",
       "</div>"
      ],
      "text/plain": [
       "   TIENDA_ID  PLAZA_CVE NIVELSOCIOECONOMICO_DES ENTORNO_DES  MTS2VENTAS_NUM  \\\n",
       "0        680          1                       C       Hogar          102.36   \n",
       "1        730          1                       C       Hogar           97.43   \n",
       "2        650          1                       C       Hogar          117.01   \n",
       "3        670          1                       C        Base          109.76   \n",
       "4        800          1                       C    Peatonal            0.00   \n",
       "\n",
       "   PUERTASREFRIG_NUM  CAJONESESTACIONAMIENTO_NUM  LATITUD_NUM  LONGITUD_NUM  \\\n",
       "0                 13                           0     25.65488    -100.21207   \n",
       "1                 14                           0     25.66315    -100.22738   \n",
       "2                 13                           0     25.66404    -100.22993   \n",
       "3                 13                           0     25.66508    -100.26338   \n",
       "4                  0                           0     25.69367    -100.21433   \n",
       "\n",
       "  SEGMENTO_MAESTRO_DESC LID_UBICACION_TIENDA DATASET  \n",
       "0         Hogar Reunión          UT_DENSIDAD    TEST  \n",
       "1         Hogar Reunión          UT_DENSIDAD    TEST  \n",
       "2         Hogar Reunión          UT_DENSIDAD    TEST  \n",
       "3         Hogar Reunión          UT_DENSIDAD    TEST  \n",
       "4        Parada Técnica  UT_TRAFICO_PEATONAL    TEST  "
      ]
     },
     "execution_count": 38,
     "metadata": {},
     "output_type": "execute_result"
    }
   ],
   "source": [
    "df = pd.read_csv('../data/DIM_TIENDA_TEST.csv')\n",
    "df.head()"
   ]
  },
  {
   "cell_type": "code",
   "execution_count": 39,
   "id": "b6c54283",
   "metadata": {},
   "outputs": [
    {
     "data": {
      "text/plain": [
       "Index(['TIENDA_ID', 'PLAZA_CVE', 'NIVELSOCIOECONOMICO_DES', 'ENTORNO_DES',\n",
       "       'MTS2VENTAS_NUM', 'PUERTASREFRIG_NUM', 'CAJONESESTACIONAMIENTO_NUM',\n",
       "       'LATITUD_NUM', 'LONGITUD_NUM', 'SEGMENTO_MAESTRO_DESC',\n",
       "       'LID_UBICACION_TIENDA', 'DATASET'],\n",
       "      dtype='object')"
      ]
     },
     "execution_count": 39,
     "metadata": {},
     "output_type": "execute_result"
    }
   ],
   "source": [
    "df.columns"
   ]
  },
  {
   "cell_type": "code",
   "execution_count": 40,
   "id": "f038d104",
   "metadata": {},
   "outputs": [
    {
     "data": {
      "text/plain": [
       "np.int64(0)"
      ]
     },
     "execution_count": 40,
     "metadata": {},
     "output_type": "execute_result"
    }
   ],
   "source": [
    "df.duplicated().sum()"
   ]
  },
  {
   "cell_type": "code",
   "execution_count": 41,
   "id": "e3feb419",
   "metadata": {},
   "outputs": [
    {
     "name": "stdout",
     "output_type": "stream",
     "text": [
      "<class 'pandas.core.frame.DataFrame'>\n",
      "RangeIndex: 105 entries, 0 to 104\n",
      "Data columns (total 12 columns):\n",
      " #   Column                      Non-Null Count  Dtype  \n",
      "---  ------                      --------------  -----  \n",
      " 0   TIENDA_ID                   105 non-null    int64  \n",
      " 1   PLAZA_CVE                   105 non-null    int64  \n",
      " 2   NIVELSOCIOECONOMICO_DES     105 non-null    object \n",
      " 3   ENTORNO_DES                 105 non-null    object \n",
      " 4   MTS2VENTAS_NUM              105 non-null    float64\n",
      " 5   PUERTASREFRIG_NUM           105 non-null    int64  \n",
      " 6   CAJONESESTACIONAMIENTO_NUM  105 non-null    int64  \n",
      " 7   LATITUD_NUM                 105 non-null    float64\n",
      " 8   LONGITUD_NUM                105 non-null    float64\n",
      " 9   SEGMENTO_MAESTRO_DESC       105 non-null    object \n",
      " 10  LID_UBICACION_TIENDA        105 non-null    object \n",
      " 11  DATASET                     105 non-null    object \n",
      "dtypes: float64(3), int64(4), object(5)\n",
      "memory usage: 10.0+ KB\n"
     ]
    }
   ],
   "source": [
    "df.info()"
   ]
  },
  {
   "cell_type": "code",
   "execution_count": 42,
   "id": "affbd8fa",
   "metadata": {},
   "outputs": [
    {
     "data": {
      "text/plain": [
       "TIENDA_ID                     0\n",
       "PLAZA_CVE                     0\n",
       "NIVELSOCIOECONOMICO_DES       0\n",
       "ENTORNO_DES                   0\n",
       "MTS2VENTAS_NUM                0\n",
       "PUERTASREFRIG_NUM             0\n",
       "CAJONESESTACIONAMIENTO_NUM    0\n",
       "LATITUD_NUM                   0\n",
       "LONGITUD_NUM                  0\n",
       "SEGMENTO_MAESTRO_DESC         0\n",
       "LID_UBICACION_TIENDA          0\n",
       "DATASET                       0\n",
       "dtype: int64"
      ]
     },
     "execution_count": 42,
     "metadata": {},
     "output_type": "execute_result"
    }
   ],
   "source": [
    "df.isnull().sum()"
   ]
  },
  {
   "cell_type": "code",
   "execution_count": 43,
   "id": "3e51b9b2",
   "metadata": {},
   "outputs": [
    {
     "data": {
      "text/plain": [
       "array(['Hogar Reunión', 'Parada Técnica', 'Clásico', 'Oficinistas',\n",
       "       'Barrio Competido'], dtype=object)"
      ]
     },
     "execution_count": 43,
     "metadata": {},
     "output_type": "execute_result"
    }
   ],
   "source": [
    "df['SEGMENTO_MAESTRO_DESC'].unique()"
   ]
  },
  {
   "cell_type": "code",
   "execution_count": 44,
   "id": "d86a0605",
   "metadata": {},
   "outputs": [
    {
     "data": {
      "text/plain": [
       "array(['Hogar', 'Base', 'Peatonal', 'Receso'], dtype=object)"
      ]
     },
     "execution_count": 44,
     "metadata": {},
     "output_type": "execute_result"
    }
   ],
   "source": [
    "df['ENTORNO_DES'].unique()"
   ]
  },
  {
   "cell_type": "code",
   "execution_count": 45,
   "id": "f11fc89c",
   "metadata": {},
   "outputs": [
    {
     "data": {
      "text/plain": [
       "array(['UT_DENSIDAD', 'UT_TRAFICO_PEATONAL', 'UT_GAS_URBANA',\n",
       "       'UT_CARRETERA_GAS', 'UT_TRAFICO_VEHICULAR'], dtype=object)"
      ]
     },
     "execution_count": 45,
     "metadata": {},
     "output_type": "execute_result"
    }
   ],
   "source": [
    "df['LID_UBICACION_TIENDA'].unique()"
   ]
  },
  {
   "cell_type": "code",
   "execution_count": 46,
   "id": "9b3075dd",
   "metadata": {},
   "outputs": [],
   "source": [
    "df['ENTORNO_DES'] = df['ENTORNO_DES'].astype('category')\n",
    "df['NIVELSOCIOECONOMICO_DES'] = df['NIVELSOCIOECONOMICO_DES'].astype('category')\n",
    "df['SEGMENTO_MAESTRO_DESC'] = df['SEGMENTO_MAESTRO_DESC'].astype('category')\n",
    "df['LID_UBICACION_TIENDA'] = df['LID_UBICACION_TIENDA'].astype('category')\n"
   ]
  },
  {
   "cell_type": "code",
   "execution_count": 47,
   "id": "66d5d608",
   "metadata": {},
   "outputs": [
    {
     "data": {
      "text/plain": [
       "1"
      ]
     },
     "execution_count": 47,
     "metadata": {},
     "output_type": "execute_result"
    }
   ],
   "source": [
    "df['DATASET'].nunique()"
   ]
  },
  {
   "cell_type": "code",
   "execution_count": 48,
   "id": "11b13f26",
   "metadata": {},
   "outputs": [
    {
     "name": "stdout",
     "output_type": "stream",
     "text": [
      "<class 'pandas.core.frame.DataFrame'>\n",
      "RangeIndex: 105 entries, 0 to 104\n",
      "Data columns (total 12 columns):\n",
      " #   Column                      Non-Null Count  Dtype   \n",
      "---  ------                      --------------  -----   \n",
      " 0   TIENDA_ID                   105 non-null    int64   \n",
      " 1   PLAZA_CVE                   105 non-null    int64   \n",
      " 2   NIVELSOCIOECONOMICO_DES     105 non-null    category\n",
      " 3   ENTORNO_DES                 105 non-null    category\n",
      " 4   MTS2VENTAS_NUM              105 non-null    float64 \n",
      " 5   PUERTASREFRIG_NUM           105 non-null    int64   \n",
      " 6   CAJONESESTACIONAMIENTO_NUM  105 non-null    int64   \n",
      " 7   LATITUD_NUM                 105 non-null    float64 \n",
      " 8   LONGITUD_NUM                105 non-null    float64 \n",
      " 9   SEGMENTO_MAESTRO_DESC       105 non-null    category\n",
      " 10  LID_UBICACION_TIENDA        105 non-null    category\n",
      " 11  DATASET                     105 non-null    object  \n",
      "dtypes: category(4), float64(3), int64(4), object(1)\n",
      "memory usage: 7.9+ KB\n"
     ]
    }
   ],
   "source": [
    "df.info()"
   ]
  },
  {
   "cell_type": "code",
   "execution_count": 49,
   "id": "626c60e0",
   "metadata": {},
   "outputs": [],
   "source": [
    "df['ENTORNO_DES'] = df['ENTORNO_DES'].str.upper()\n",
    "df['SEGMENTO_MAESTRO_DESC'] = df['SEGMENTO_MAESTRO_DESC'].str.upper()"
   ]
  },
  {
   "cell_type": "code",
   "execution_count": 50,
   "id": "952987ce",
   "metadata": {},
   "outputs": [],
   "source": [
    "df = df.drop('DATASET', axis= 1)\n",
    "df = df.reset_index(drop=True)"
   ]
  },
  {
   "cell_type": "code",
   "execution_count": 51,
   "id": "81d2f272",
   "metadata": {},
   "outputs": [
    {
     "name": "stdout",
     "output_type": "stream",
     "text": [
      "0: 'TIENDA_ID' (longitud: 9)\n",
      "1: 'PLAZA_CVE' (longitud: 9)\n",
      "2: 'NIVELSOCIOECONOMICO_DES' (longitud: 23)\n",
      "3: 'ENTORNO_DES' (longitud: 11)\n",
      "4: 'MTS2VENTAS_NUM' (longitud: 14)\n",
      "5: 'PUERTASREFRIG_NUM' (longitud: 17)\n",
      "6: 'CAJONESESTACIONAMIENTO_NUM' (longitud: 26)\n",
      "7: 'LATITUD_NUM' (longitud: 11)\n",
      "8: 'LONGITUD_NUM' (longitud: 12)\n",
      "9: 'SEGMENTO_MAESTRO_DESC' (longitud: 21)\n",
      "10: 'LID_UBICACION_TIENDA' (longitud: 20)\n"
     ]
    }
   ],
   "source": [
    "# Mostrar columnas con sus índices y representación exacta\n",
    "for i, col in enumerate(df.columns):\n",
    "    print(f\"{i}: '{col}' (longitud: {len(col)})\")\n"
   ]
  },
  {
   "cell_type": "code",
   "execution_count": 52,
   "id": "17663a81",
   "metadata": {},
   "outputs": [],
   "source": [
    "# Eliminar espacios en blanco al inicio y final de cada nombre de columna\n",
    "df.columns = df.columns.str.strip()\n"
   ]
  },
  {
   "cell_type": "code",
   "execution_count": 53,
   "id": "cccc7a22",
   "metadata": {},
   "outputs": [
    {
     "data": {
      "text/html": [
       "<div>\n",
       "<style scoped>\n",
       "    .dataframe tbody tr th:only-of-type {\n",
       "        vertical-align: middle;\n",
       "    }\n",
       "\n",
       "    .dataframe tbody tr th {\n",
       "        vertical-align: top;\n",
       "    }\n",
       "\n",
       "    .dataframe thead th {\n",
       "        text-align: right;\n",
       "    }\n",
       "</style>\n",
       "<table border=\"1\" class=\"dataframe\">\n",
       "  <thead>\n",
       "    <tr style=\"text-align: right;\">\n",
       "      <th></th>\n",
       "      <th>TIENDA_ID</th>\n",
       "      <th>PLAZA_CVE</th>\n",
       "      <th>NIVELSOCIOECONOMICO_DES</th>\n",
       "      <th>ENTORNO_DES</th>\n",
       "      <th>MTS2VENTAS_NUM</th>\n",
       "      <th>PUERTASREFRIG_NUM</th>\n",
       "      <th>CAJONESESTACIONAMIENTO_NUM</th>\n",
       "      <th>LATITUD_NUM</th>\n",
       "      <th>LONGITUD_NUM</th>\n",
       "      <th>SEGMENTO_MAESTRO_DESC</th>\n",
       "      <th>LID_UBICACION_TIENDA</th>\n",
       "    </tr>\n",
       "  </thead>\n",
       "  <tbody>\n",
       "    <tr>\n",
       "      <th>0</th>\n",
       "      <td>680</td>\n",
       "      <td>1</td>\n",
       "      <td>C</td>\n",
       "      <td>HOGAR</td>\n",
       "      <td>102.36</td>\n",
       "      <td>13</td>\n",
       "      <td>0</td>\n",
       "      <td>25.65488</td>\n",
       "      <td>-100.21207</td>\n",
       "      <td>HOGAR REUNIÓN</td>\n",
       "      <td>UT_DENSIDAD</td>\n",
       "    </tr>\n",
       "    <tr>\n",
       "      <th>1</th>\n",
       "      <td>730</td>\n",
       "      <td>1</td>\n",
       "      <td>C</td>\n",
       "      <td>HOGAR</td>\n",
       "      <td>97.43</td>\n",
       "      <td>14</td>\n",
       "      <td>0</td>\n",
       "      <td>25.66315</td>\n",
       "      <td>-100.22738</td>\n",
       "      <td>HOGAR REUNIÓN</td>\n",
       "      <td>UT_DENSIDAD</td>\n",
       "    </tr>\n",
       "    <tr>\n",
       "      <th>2</th>\n",
       "      <td>650</td>\n",
       "      <td>1</td>\n",
       "      <td>C</td>\n",
       "      <td>HOGAR</td>\n",
       "      <td>117.01</td>\n",
       "      <td>13</td>\n",
       "      <td>0</td>\n",
       "      <td>25.66404</td>\n",
       "      <td>-100.22993</td>\n",
       "      <td>HOGAR REUNIÓN</td>\n",
       "      <td>UT_DENSIDAD</td>\n",
       "    </tr>\n",
       "    <tr>\n",
       "      <th>3</th>\n",
       "      <td>670</td>\n",
       "      <td>1</td>\n",
       "      <td>C</td>\n",
       "      <td>BASE</td>\n",
       "      <td>109.76</td>\n",
       "      <td>13</td>\n",
       "      <td>0</td>\n",
       "      <td>25.66508</td>\n",
       "      <td>-100.26338</td>\n",
       "      <td>HOGAR REUNIÓN</td>\n",
       "      <td>UT_DENSIDAD</td>\n",
       "    </tr>\n",
       "    <tr>\n",
       "      <th>4</th>\n",
       "      <td>800</td>\n",
       "      <td>1</td>\n",
       "      <td>C</td>\n",
       "      <td>PEATONAL</td>\n",
       "      <td>0.00</td>\n",
       "      <td>0</td>\n",
       "      <td>0</td>\n",
       "      <td>25.69367</td>\n",
       "      <td>-100.21433</td>\n",
       "      <td>PARADA TÉCNICA</td>\n",
       "      <td>UT_TRAFICO_PEATONAL</td>\n",
       "    </tr>\n",
       "  </tbody>\n",
       "</table>\n",
       "</div>"
      ],
      "text/plain": [
       "   TIENDA_ID  PLAZA_CVE NIVELSOCIOECONOMICO_DES ENTORNO_DES  MTS2VENTAS_NUM  \\\n",
       "0        680          1                       C       HOGAR          102.36   \n",
       "1        730          1                       C       HOGAR           97.43   \n",
       "2        650          1                       C       HOGAR          117.01   \n",
       "3        670          1                       C        BASE          109.76   \n",
       "4        800          1                       C    PEATONAL            0.00   \n",
       "\n",
       "   PUERTASREFRIG_NUM  CAJONESESTACIONAMIENTO_NUM  LATITUD_NUM  LONGITUD_NUM  \\\n",
       "0                 13                           0     25.65488    -100.21207   \n",
       "1                 14                           0     25.66315    -100.22738   \n",
       "2                 13                           0     25.66404    -100.22993   \n",
       "3                 13                           0     25.66508    -100.26338   \n",
       "4                  0                           0     25.69367    -100.21433   \n",
       "\n",
       "  SEGMENTO_MAESTRO_DESC LID_UBICACION_TIENDA  \n",
       "0         HOGAR REUNIÓN          UT_DENSIDAD  \n",
       "1         HOGAR REUNIÓN          UT_DENSIDAD  \n",
       "2         HOGAR REUNIÓN          UT_DENSIDAD  \n",
       "3         HOGAR REUNIÓN          UT_DENSIDAD  \n",
       "4        PARADA TÉCNICA  UT_TRAFICO_PEATONAL  "
      ]
     },
     "execution_count": 53,
     "metadata": {},
     "output_type": "execute_result"
    }
   ],
   "source": [
    "df.head()"
   ]
  },
  {
   "cell_type": "code",
   "execution_count": 54,
   "id": "9eb78f8c",
   "metadata": {},
   "outputs": [],
   "source": [
    "df.to_csv('../data/Clean_DIM_TIENDA_TEST.csv', index=False)"
   ]
  }
 ],
 "metadata": {
  "kernelspec": {
   "display_name": "env",
   "language": "python",
   "name": "python3"
  },
  "language_info": {
   "codemirror_mode": {
    "name": "ipython",
    "version": 3
   },
   "file_extension": ".py",
   "mimetype": "text/x-python",
   "name": "python",
   "nbconvert_exporter": "python",
   "pygments_lexer": "ipython3",
   "version": "3.13.1"
  }
 },
 "nbformat": 4,
 "nbformat_minor": 5
}
