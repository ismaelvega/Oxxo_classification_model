{
 "cells": [
  {
   "cell_type": "code",
   "execution_count": 1,
   "id": "9db879aa",
   "metadata": {},
   "outputs": [],
   "source": [
    "import pandas as pd"
   ]
  },
  {
   "cell_type": "code",
   "execution_count": 4,
   "id": "98ffb734",
   "metadata": {},
   "outputs": [
    {
     "name": "stdout",
     "output_type": "stream",
     "text": [
      "                columna                                                                          valores_únicos\n",
      "NIVELSOCIOECONOMICO_DES                                                                  A, AB, B, BC, C, CD, D\n",
      "            ENTORNO_DES                                                           BASE, HOGAR, PEATONAL, RECESO\n",
      "  SEGMENTO_MAESTRO_DESC                   BARRIO COMPETIDO, CLÁSICO, HOGAR REUNIÓN, OFICINISTAS, PARADA TÉCNICA\n",
      "   LID_UBICACION_TIENDA UT_CARRETERA_GAS, UT_DENSIDAD, UT_GAS_URBANA, UT_TRAFICO_PEATONAL, UT_TRAFICO_VEHICULAR\n"
     ]
    }
   ],
   "source": [
    "df = pd.read_csv('./datasets/dataset.csv')\n",
    "\n",
    "# Seleccionar columnas no numéricas\n",
    "non_numeric_cols = df.select_dtypes(exclude=['number']).columns\n",
    "\n",
    "# Calcular valores únicos para cada columna no numérica\n",
    "unique_values = {\n",
    "    col: sorted(df[col].dropna().unique().astype(str).tolist())\n",
    "    for col in non_numeric_cols\n",
    "}\n",
    "\n",
    "# Crear un DataFrame para mostrarlo de forma tabular\n",
    "result_df = pd.DataFrame({\n",
    "    'columna': list(unique_values.keys()),\n",
    "    'valores_únicos': [', '.join(vals) for vals in unique_values.values()]\n",
    "})\n",
    "\n",
    "# Mostrar el DataFrame resultante\n",
    "print(result_df.to_string(index=False))\n",
    "\n",
    "# Guardar el resultado en un archivo CSV\n",
    "result_df.to_csv('./datasets/valores_unicos.csv', index=False, encoding='utf-8-sig')"
   ]
  }
 ],
 "metadata": {
  "kernelspec": {
   "display_name": "venv",
   "language": "python",
   "name": "python3"
  },
  "language_info": {
   "codemirror_mode": {
    "name": "ipython",
    "version": 3
   },
   "file_extension": ".py",
   "mimetype": "text/x-python",
   "name": "python",
   "nbconvert_exporter": "python",
   "pygments_lexer": "ipython3",
   "version": "3.12.3"
  }
 },
 "nbformat": 4,
 "nbformat_minor": 5
}
